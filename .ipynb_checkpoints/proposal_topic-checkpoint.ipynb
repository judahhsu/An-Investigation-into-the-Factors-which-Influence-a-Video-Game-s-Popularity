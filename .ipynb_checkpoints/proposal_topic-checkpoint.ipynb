{
 "cells": [
  {
   "cell_type": "markdown",
   "id": "885bb2eb-7ad9-422d-a4c1-22bc2f0716cc",
   "metadata": {},
   "source": [
    "*Test to see dimensionality of API*"
   ]
  },
  {
   "cell_type": "code",
   "execution_count": 2,
   "id": "8a591a4e-ed94-473f-b1ed-dafd73ace973",
   "metadata": {},
   "outputs": [
    {
     "data": {
      "text/plain": [
       "'\\r\\n\\r\\n<html>\\n<head><link rel=\"alternate\" type=\"text/xml\" href=\"/api/v3.asmx?disco\" />\\n<style type=\"text/css\">\\r\\n    \\r\\n\\t\\tBODY { color: #000000; background-color: white; font-family: Verdana; margin-left: 0px; margin-top: 0px; }\\r\\n\\t\\t#content { margin-left: 30px; font-size: .70em; padding-bottom: 2em; }\\r\\n\\t\\tA:link { color: #336699; font-weight: bold; text-decoration: underline; }\\r\\n\\t\\tA:visited { color: #6699cc; font-weight: bold; text-decoration: underline; }\\r\\n\\t\\tA:active { color: #336699; font-weight: bold; text-decoration: underline; }\\r\\n\\t\\tA:hover { color: cc3300; font-weight: bold; text-decoration: underline; }\\r\\n\\t\\tP { color: #000000; margin-top: 0px; margin-bottom: 12px; font-family: Verdana; }\\r\\n\\t\\tpre { background-color: #e5e5cc; padding: 5px; font-family: Courier New; font-size: x-small; margin-top: -5px; border: 1px #f0f0e0 solid; }\\r\\n\\t\\ttd { color: #000000; font-family: Verdana; font-size: .7em; }\\r\\n\\t\\th2 { font-size: 1.5em; font-weight: bold; margin-top: 25px; margin-bottom: 10px; border-top: 1px solid #003366; margin-left: -15px; color: #003366; }\\r\\n\\t\\th3 { font-size: 1.1em; color: #000000; margin-left: -15px; margin-top: 10px; margin-bottom: 10px; }\\r\\n\\t\\tul { margin-top: 10px; margin-left: 20px; }\\r\\n\\t\\tol { margin-top: 10px; margin-left: 20px; }\\r\\n\\t\\tli { margin-top: 10px; color: #000000; }\\r\\n\\t\\tfont.value { color: darkblue; font: bold; }\\r\\n\\t\\tfont.key { color: darkgreen; font: bold; }\\r\\n\\t\\tfont.error { color: darkred; font: bold; }\\r\\n\\t\\t.heading1 { color: #ffffff; font-family: Tahoma; font-size: 26px; font-weight: normal; background-color: #003366; margin-top: 0px; margin-bottom: 0px; margin-left: -30px; padding-top: 10px; padding-bottom: 3px; padding-left: 15px; width: 105%; }\\r\\n\\t\\t.button { background-color: #dcdcdc; font-family: Verdana; font-size: 1em; border-top: #cccccc 1px solid; border-bottom: #666666 1px solid; border-left: #cccccc 1px solid; border-right: #666666 1px solid; }\\r\\n\\t\\t.frmheader { color: #000000; background: #dcdcdc; font-family: Verdana; font-size: .7em; font-weight: normal; border-bottom: 1px solid #dcdcdc; padding-top: 2px; padding-bottom: 2px; }\\r\\n\\t\\t.frmtext { font-family: Verdana; font-size: .7em; margin-top: 8px; margin-bottom: 0px; margin-left: 32px; }\\r\\n\\t\\t.frmInput { font-family: Verdana; font-size: 1em; }\\r\\n\\t\\t.intro { margin-left: -15px; }\\r\\n           \\r\\n    </style>\\n<title>\\r\\n\\tBricksetAPIv3 Web Service\\r\\n</title></head>\\n<body>\\n<div id=\"content\">\\n<p class=\"heading1\">BricksetAPIv3</p><br>\\n<span>\\n<p class=\"intro\">The following operations are supported. For a formal definition, please review the <a href=\"v3.asmx?WSDL\">Service Description</a>. </p>\\n<ul>\\n<li>\\n<a href=\"v3.asmx?op=checkKey\">checkKey</a>\\n</li>\\n<p>\\n<li>\\n<a href=\"v3.asmx?op=checkUserHash\">checkUserHash</a>\\n</li>\\n<p>\\n<li>\\n<a href=\"v3.asmx?op=getAdditionalImages\">getAdditionalImages</a>\\n</li>\\n<p>\\n<li>\\n<a href=\"v3.asmx?op=getInstructions\">getInstructions</a>\\n</li>\\n<p>\\n<li>\\n<a href=\"v3.asmx?op=getInstructions2\">getInstructions2</a>\\n</li>\\n<p>\\n<li>\\n<a href=\"v3.asmx?op=getKeyUsageStats\">getKeyUsageStats</a>\\n</li>\\n<p>\\n<li>\\n<a href=\"v3.asmx?op=getMinifigCollection\">getMinifigCollection</a>\\n</li>\\n<p>\\n<li>\\n<a href=\"v3.asmx?op=getReviews\">getReviews</a>\\n</li>\\n<p>\\n<li>\\n<a href=\"v3.asmx?op=getSets\">getSets</a>\\n</li>\\n<p>\\n<li>\\n<a href=\"v3.asmx?op=getSubthemes\">getSubthemes</a>\\n</li>\\n<p>\\n<li>\\n<a href=\"v3.asmx?op=getThemes\">getThemes</a>\\n</li>\\n<p>\\n<li>\\n<a href=\"v3.asmx?op=getUserMinifigNotes\">getUserMinifigNotes</a>\\n</li>\\n<p>\\n<li>\\n<a href=\"v3.asmx?op=getUserNotes\">getUserNotes</a>\\n</li>\\n<p>\\n<li>\\n<a href=\"v3.asmx?op=getYears\">getYears</a>\\n</li>\\n<p>\\n<li>\\n<a href=\"v3.asmx?op=login\">login</a>\\n</li>\\n<p>\\n<li>\\n<a href=\"v3.asmx?op=setCollection\">setCollection</a>\\n</li>\\n<p>\\n<li>\\n<a href=\"v3.asmx?op=setMinifigCollection\">setMinifigCollection</a>\\n</li>\\n<p>\\n</ul>\\n</span>\\n<span>\\n</span>\\n<script defer src=\"https://static.cloudflareinsights.com/beacon.min.js/v84a3a4012de94ce1a686ba8c167c359c1696973893317\" integrity=\"sha512-euoFGowhlaLqXsPWQ48qSkBSCFs3DPRyiwVu3FjR96cMPx+Fr+gpWRhIafcHwqwCqWS42RZhIudOvEI+Ckf6MA==\" data-cf-beacon=\\'{\"rayId\":\"8236fe895ce16a04\",\"b\":1,\"version\":\"2023.10.0\",\"token\":\"6a9a238990984c4492f28280a102793d\"}\\' crossorigin=\"anonymous\"></script>\\n</body>\\n</html>\\n'"
      ]
     },
     "execution_count": 2,
     "metadata": {},
     "output_type": "execute_result"
    }
   ],
   "source": [
    "import requests\n",
    "import pandas as pd\n",
    "\n",
    "response = requests.get('https://brickset.com/api/v3.asmx', params = {\n",
    "    'apiKey':'3-G0ph-yUnY-XSHgz'\n",
    "})\n",
    "\n",
    "response.raise_for_status()\n",
    "\n",
    "response.text"
   ]
  }
 ],
 "metadata": {
  "kernelspec": {
   "display_name": "Python 3 (ipykernel)",
   "language": "python",
   "name": "python3"
  },
  "language_info": {
   "codemirror_mode": {
    "name": "ipython",
    "version": 3
   },
   "file_extension": ".py",
   "mimetype": "text/x-python",
   "name": "python",
   "nbconvert_exporter": "python",
   "pygments_lexer": "ipython3",
   "version": "3.11.1"
  }
 },
 "nbformat": 4,
 "nbformat_minor": 5
}
