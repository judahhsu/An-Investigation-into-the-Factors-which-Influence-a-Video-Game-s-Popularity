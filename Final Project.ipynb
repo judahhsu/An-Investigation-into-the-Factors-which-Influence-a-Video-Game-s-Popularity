{
 "cells": [
  {
   "cell_type": "markdown",
   "metadata": {},
   "source": [
    "# STA 141B Project Group 12"
   ]
  },
  {
   "cell_type": "markdown",
   "metadata": {},
   "source": [
    "## Introduction"
   ]
  },
  {
   "cell_type": "markdown",
   "metadata": {},
   "source": [
    "## Methods"
   ]
  },
  {
   "cell_type": "code",
   "execution_count": 1,
   "metadata": {},
   "outputs": [],
   "source": [
    "import requests\n",
    "import pandas as pd\n",
    "import requests_cache\n",
    "import time\n",
    "requests_cache.install_cache(\"Final_Project\")"
   ]
  },
  {
   "cell_type": "code",
   "execution_count": 59,
   "metadata": {},
   "outputs": [],
   "source": [
    "url = 'https://www.cheapshark.com/api/1.0/deals' # Testing environment\n",
    "\n",
    "result = requests.get(url, params= {\n",
    "    'storeID' : 1,\n",
    "    'AAA' : 1,\n",
    "    'steamAppID' : 168162\n",
    "})\n"
   ]
  },
  {
   "cell_type": "code",
   "execution_count": 64,
   "metadata": {},
   "outputs": [],
   "source": [
    "test_set = pd.DataFrame()\n",
    "for i in range(1, 2):\n",
    "    result = requests.get(url, params= {\n",
    "    'storeID' : 1,\n",
    "    'pageNumber' : i,\n",
    "    'AAA' : 1\n",
    "    })\n",
    "\n",
    "    data = result.json()\n",
    "    data = pd.DataFrame(data)\n",
    "\n",
    "    test_set = pd.concat([test_set, data], ignore_index=True)\n",
    "\n",
    "    time.sleep(2)"
   ]
  },
  {
   "cell_type": "markdown",
   "metadata": {},
   "source": [
    "remove later (rel code below)"
   ]
  },
  {
   "cell_type": "code",
   "execution_count": 65,
   "metadata": {},
   "outputs": [],
   "source": [
    "full_set = pd.DataFrame()\n",
    "for i in range(1, 51):\n",
    "    result = requests.get(url, params= {\n",
    "    'storeID' : 1,\n",
    "    'pageNumber' : i\n",
    "    })\n",
    "\n",
    "    data = result.json()\n",
    "    data = pd.DataFrame(data)\n",
    "\n",
    "    full_set = pd.concat([full_set, data], ignore_index=True)\n",
    "\n",
    "    time.sleep(2)\n",
    "\n",
    "full_set = full_set[[\"title\", \"gameID\", \"releaseDate\", \"normalPrice\", \"metacriticScore\", \"steamRatingText\", \"steamRatingPercent\"]]"
   ]
  },
  {
   "cell_type": "code",
   "execution_count": 53,
   "metadata": {},
   "outputs": [],
   "source": [
    "aaa_set = pd.DataFrame()\n",
    "for i in range(1, 46):\n",
    "    result = requests.get(url, params= {\n",
    "    'storeID' : 1,\n",
    "    'pageNumber' : i,\n",
    "    'AAA' : 1\n",
    "    })\n",
    "\n",
    "    data = result.json()\n",
    "    data = pd.DataFrame(data)\n",
    "\n",
    "    aaa_set = pd.concat([aaa_set, data], ignore_index=True)\n",
    "\n",
    "    time.sleep(2)\n",
    "\n",
    "aaa_set = aaa_set[[\"title\", \"gameID\", \"releaseDate\", \"normalPrice\", \"metacriticScore\", \"steamRatingText\", \"steamRatingPercent\"]]"
   ]
  },
  {
   "cell_type": "code",
   "execution_count": 73,
   "metadata": {},
   "outputs": [],
   "source": [
    "aaa_set[\"normalPrice\"] = aaa_set[\"normalPrice\"].astype(float)\n",
    "aaa_set[\"metacriticScore\"] = aaa_set[\"metacriticScore\"].astype(int)\n",
    "aaa_set[\"steamRatingPercent\"] = aaa_set[\"steamRatingPercent\"].astype(int)"
   ]
  },
  {
   "cell_type": "code",
   "execution_count": 71,
   "metadata": {},
   "outputs": [
    {
     "data": {
      "text/plain": [
       "numpy.float64"
      ]
     },
     "execution_count": 71,
     "metadata": {},
     "output_type": "execute_result"
    }
   ],
   "source": [
    "full_set[\"normalPrice\"] = full_set[\"normalPrice\"].astype(float)\n",
    "full_set[\"metacriticScore\"] = full_set[\"metacriticScore\"].astype(int)\n",
    "full_set[\"steamRatingPercent\"] = full_set[\"steamRatingPercent\"].astype(int)\n",
    "type(full_set[\"normalPrice\"][1])"
   ]
  },
  {
   "cell_type": "code",
   "execution_count": 72,
   "metadata": {},
   "outputs": [],
   "source": [
    "#aaa_set = full_set[full_set[\"normalPrice\"] >= 29]\n",
    "indie_set = full_set[full_set[\"normalPrice\"] < 29]\n",
    "indie_set = indie_set[indie_set[\"metacriticScore\"] > 0] # To account for missing metacritic"
   ]
  },
  {
   "cell_type": "markdown",
   "metadata": {},
   "source": [
    "Testing environment"
   ]
  },
  {
   "cell_type": "code",
   "execution_count": 10,
   "metadata": {},
   "outputs": [
    {
     "name": "stdout",
     "output_type": "stream",
     "text": [
      "15\n",
      "https://www.cheapshark.com/api/1.0/deals?storeID=1&lowerPrice=25&upperPrice=50&pageNumber=2\n"
     ]
    }
   ],
   "source": [
    "test = result.json()\n",
    "print(result.headers['X-Total-Page-Count']) # Important if we want to parse through all pages\n",
    "print(result.url)\n",
    "\n",
    "test = pd.DataFrame(test)\n",
    "\n",
    "header = result.headers"
   ]
  },
  {
   "cell_type": "markdown",
   "metadata": {},
   "source": [
    "## Results"
   ]
  },
  {
   "cell_type": "markdown",
   "metadata": {},
   "source": [
    "## Discussion"
   ]
  },
  {
   "cell_type": "markdown",
   "metadata": {},
   "source": [
    "## Acknowledgements"
   ]
  },
  {
   "cell_type": "markdown",
   "metadata": {},
   "source": []
  }
 ],
 "metadata": {
  "kernelspec": {
   "display_name": "base",
   "language": "python",
   "name": "python3"
  },
  "language_info": {
   "codemirror_mode": {
    "name": "ipython",
    "version": 3
   },
   "file_extension": ".py",
   "mimetype": "text/x-python",
   "name": "python",
   "nbconvert_exporter": "python",
   "pygments_lexer": "ipython3",
   "version": "3.11.4"
  }
 },
 "nbformat": 4,
 "nbformat_minor": 2
}
