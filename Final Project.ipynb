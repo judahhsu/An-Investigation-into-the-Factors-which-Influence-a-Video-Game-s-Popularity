{
 "cells": [
  {
   "cell_type": "markdown",
   "metadata": {},
   "source": [
    "# STA 141B Project Group 12"
   ]
  },
  {
   "cell_type": "markdown",
   "metadata": {},
   "source": [
    "## Introduction"
   ]
  },
  {
   "cell_type": "markdown",
   "metadata": {},
   "source": [
    "The main point of this project will be to see what factors affect a game's ratings or \"how good\" a game is. Some possible factors include price, popularity / culture, gameplay, etc...\n",
    "#Later specify which factors in specific\n",
    "#Should also specify the broader significance and impact of this question"
   ]
  },
  {
   "cell_type": "markdown",
   "metadata": {},
   "source": [
    "## Methods"
   ]
  },
  {
   "cell_type": "code",
   "execution_count": 3,
   "metadata": {},
   "outputs": [],
   "source": [
    "import requests\n",
    "import pandas as pd\n",
    "import requests_cache\n",
    "import time\n",
    "requests_cache.install_cache(\"Final_Project\")"
   ]
  },
  {
   "cell_type": "code",
   "execution_count": 4,
   "metadata": {},
   "outputs": [],
   "source": [
    "url = 'https://www.cheapshark.com/api/1.0/deals' # Testing environment\n",
    "\n",
    "result = requests.get(url, params= {\n",
    "    'storeID' : 1,\n",
    "    'AAA' : 1,\n",
    "    'steamAppID' : 168162\n",
    "})\n"
   ]
  },
  {
   "cell_type": "code",
   "execution_count": 5,
   "metadata": {},
   "outputs": [],
   "source": [
    "test_set = pd.DataFrame()\n",
    "for i in range(1, 2):\n",
    "    result = requests.get(url, params= {\n",
    "    'storeID' : 1,\n",
    "    'pageNumber' : i,\n",
    "    'AAA' : 1\n",
    "    })\n",
    "\n",
    "    data = result.json()\n",
    "    data = pd.DataFrame(data)\n",
    "\n",
    "    test_set = pd.concat([test_set, data], ignore_index=True)\n",
    "\n",
    "    time.sleep(2)"
   ]
  },
  {
   "cell_type": "markdown",
   "metadata": {},
   "source": [
    "remove later (rel code below)"
   ]
  },
  {
   "cell_type": "code",
   "execution_count": 6,
   "metadata": {},
   "outputs": [],
   "source": [
    "full_set = pd.DataFrame()\n",
    "for i in range(1, 51):\n",
    "    result = requests.get(url, params= {\n",
    "    'storeID' : 1,\n",
    "    'pageNumber' : i\n",
    "    })\n",
    "\n",
    "    data = result.json()\n",
    "    data = pd.DataFrame(data)\n",
    "\n",
    "    full_set = pd.concat([full_set, data], ignore_index=True)\n",
    "\n",
    "    time.sleep(2)\n",
    "\n",
    "full_set = full_set[[\"title\", \"gameID\", \"releaseDate\", \"normalPrice\", \"metacriticScore\", \"steamRatingText\", \"steamRatingPercent\"]]"
   ]
  },
  {
   "cell_type": "code",
   "execution_count": 7,
   "metadata": {},
   "outputs": [],
   "source": [
    "aaa_set = pd.DataFrame()\n",
    "for i in range(1, 46):\n",
    "    result = requests.get(url, params= {\n",
    "    'storeID' : 1,\n",
    "    'pageNumber' : i,\n",
    "    'AAA' : 1\n",
    "    })\n",
    "\n",
    "    data = result.json()\n",
    "    data = pd.DataFrame(data)\n",
    "\n",
    "    aaa_set = pd.concat([aaa_set, data], ignore_index=True)\n",
    "\n",
    "    time.sleep(2)\n",
    "\n",
    "aaa_set = aaa_set[[\"title\", \"gameID\", \"releaseDate\", \"normalPrice\", \"metacriticScore\", \"steamRatingText\", \"steamRatingPercent\"]]"
   ]
  },
  {
   "cell_type": "code",
   "execution_count": 8,
   "metadata": {},
   "outputs": [],
   "source": [
    "aaa_set[\"normalPrice\"] = aaa_set[\"normalPrice\"].astype(float)\n",
    "aaa_set[\"metacriticScore\"] = aaa_set[\"metacriticScore\"].astype(int)\n",
    "aaa_set[\"steamRatingPercent\"] = aaa_set[\"steamRatingPercent\"].astype(int)"
   ]
  },
  {
   "cell_type": "code",
   "execution_count": 9,
   "metadata": {},
   "outputs": [
    {
     "data": {
      "text/plain": [
       "numpy.float64"
      ]
     },
     "execution_count": 9,
     "metadata": {},
     "output_type": "execute_result"
    }
   ],
   "source": [
    "full_set[\"normalPrice\"] = full_set[\"normalPrice\"].astype(float)\n",
    "full_set[\"metacriticScore\"] = full_set[\"metacriticScore\"].astype(int)\n",
    "full_set[\"steamRatingPercent\"] = full_set[\"steamRatingPercent\"].astype(int)\n",
    "type(full_set[\"normalPrice\"][1])"
   ]
  },
  {
   "cell_type": "code",
   "execution_count": 10,
   "metadata": {},
   "outputs": [],
   "source": [
    "#aaa_set = full_set[full_set[\"normalPrice\"] >= 29]\n",
    "indie_set = full_set[full_set[\"normalPrice\"] < 29]\n",
    "indie_set = indie_set[indie_set[\"metacriticScore\"] > 0] # To account for missing metacritic"
   ]
  },
  {
   "cell_type": "markdown",
   "metadata": {},
   "source": [
    "### JUDAH SECTION"
   ]
  },
  {
   "cell_type": "markdown",
   "metadata": {},
   "source": [
    "#### Conversion of datetime from unix to YY-MM-DD"
   ]
  },
  {
   "cell_type": "code",
   "execution_count": 11,
   "metadata": {},
   "outputs": [],
   "source": [
    "full_set['releaseDate'] = pd.to_datetime(full_set['releaseDate'], unit='s').dt.date\n",
    "aaa_set['releaseDate'] = pd.to_datetime(aaa_set['releaseDate'], unit='s').dt.date\n",
    "indie_set['releaseDate'] = pd.to_datetime(indie_set['releaseDate'], unit='s').dt.date"
   ]
  },
  {
   "cell_type": "code",
   "execution_count": 12,
   "metadata": {},
   "outputs": [
    {
     "data": {
      "text/html": [
       "<div>\n",
       "<style scoped>\n",
       "    .dataframe tbody tr th:only-of-type {\n",
       "        vertical-align: middle;\n",
       "    }\n",
       "\n",
       "    .dataframe tbody tr th {\n",
       "        vertical-align: top;\n",
       "    }\n",
       "\n",
       "    .dataframe thead th {\n",
       "        text-align: right;\n",
       "    }\n",
       "</style>\n",
       "<table border=\"1\" class=\"dataframe\">\n",
       "  <thead>\n",
       "    <tr style=\"text-align: right;\">\n",
       "      <th></th>\n",
       "      <th>title</th>\n",
       "      <th>gameID</th>\n",
       "      <th>releaseDate</th>\n",
       "      <th>normalPrice</th>\n",
       "      <th>metacriticScore</th>\n",
       "      <th>steamRatingText</th>\n",
       "      <th>steamRatingPercent</th>\n",
       "    </tr>\n",
       "  </thead>\n",
       "  <tbody>\n",
       "    <tr>\n",
       "      <th>0</th>\n",
       "      <td>Stealth Bastard Deluxe</td>\n",
       "      <td>93923</td>\n",
       "      <td>2012-11-28</td>\n",
       "      <td>9.99</td>\n",
       "      <td>80</td>\n",
       "      <td>Very Positive</td>\n",
       "      <td>88</td>\n",
       "    </tr>\n",
       "    <tr>\n",
       "      <th>1</th>\n",
       "      <td>Prince of Persia: The Sands of Time</td>\n",
       "      <td>278</td>\n",
       "      <td>2003-12-02</td>\n",
       "      <td>9.99</td>\n",
       "      <td>89</td>\n",
       "      <td>Very Positive</td>\n",
       "      <td>85</td>\n",
       "    </tr>\n",
       "    <tr>\n",
       "      <th>2</th>\n",
       "      <td>Raw Data</td>\n",
       "      <td>154911</td>\n",
       "      <td>2017-10-02</td>\n",
       "      <td>39.99</td>\n",
       "      <td>87</td>\n",
       "      <td>Very Positive</td>\n",
       "      <td>82</td>\n",
       "    </tr>\n",
       "    <tr>\n",
       "      <th>3</th>\n",
       "      <td>GUILTY GEAR Xrd -SIGN-</td>\n",
       "      <td>147415</td>\n",
       "      <td>2015-12-09</td>\n",
       "      <td>29.99</td>\n",
       "      <td>84</td>\n",
       "      <td>Very Positive</td>\n",
       "      <td>91</td>\n",
       "    </tr>\n",
       "    <tr>\n",
       "      <th>4</th>\n",
       "      <td>BioShock Infinite</td>\n",
       "      <td>93503</td>\n",
       "      <td>2013-03-25</td>\n",
       "      <td>29.99</td>\n",
       "      <td>94</td>\n",
       "      <td>Very Positive</td>\n",
       "      <td>93</td>\n",
       "    </tr>\n",
       "  </tbody>\n",
       "</table>\n",
       "</div>"
      ],
      "text/plain": [
       "                                 title  gameID releaseDate  normalPrice  \\\n",
       "0               Stealth Bastard Deluxe   93923  2012-11-28         9.99   \n",
       "1  Prince of Persia: The Sands of Time     278  2003-12-02         9.99   \n",
       "2                             Raw Data  154911  2017-10-02        39.99   \n",
       "3               GUILTY GEAR Xrd -SIGN-  147415  2015-12-09        29.99   \n",
       "4                    BioShock Infinite   93503  2013-03-25        29.99   \n",
       "\n",
       "   metacriticScore steamRatingText  steamRatingPercent  \n",
       "0               80   Very Positive                  88  \n",
       "1               89   Very Positive                  85  \n",
       "2               87   Very Positive                  82  \n",
       "3               84   Very Positive                  91  \n",
       "4               94   Very Positive                  93  "
      ]
     },
     "execution_count": 12,
     "metadata": {},
     "output_type": "execute_result"
    }
   ],
   "source": [
    "full_set.head()"
   ]
  },
  {
   "cell_type": "code",
   "execution_count": 13,
   "metadata": {},
   "outputs": [
    {
     "data": {
      "text/html": [
       "<div>\n",
       "<style scoped>\n",
       "    .dataframe tbody tr th:only-of-type {\n",
       "        vertical-align: middle;\n",
       "    }\n",
       "\n",
       "    .dataframe tbody tr th {\n",
       "        vertical-align: top;\n",
       "    }\n",
       "\n",
       "    .dataframe thead th {\n",
       "        text-align: right;\n",
       "    }\n",
       "</style>\n",
       "<table border=\"1\" class=\"dataframe\">\n",
       "  <thead>\n",
       "    <tr style=\"text-align: right;\">\n",
       "      <th></th>\n",
       "      <th>title</th>\n",
       "      <th>gameID</th>\n",
       "      <th>releaseDate</th>\n",
       "      <th>normalPrice</th>\n",
       "      <th>metacriticScore</th>\n",
       "      <th>steamRatingText</th>\n",
       "      <th>steamRatingPercent</th>\n",
       "    </tr>\n",
       "  </thead>\n",
       "  <tbody>\n",
       "    <tr>\n",
       "      <th>0</th>\n",
       "      <td>Rise of the Tomb Raider</td>\n",
       "      <td>145517</td>\n",
       "      <td>2016-01-28</td>\n",
       "      <td>29.99</td>\n",
       "      <td>86</td>\n",
       "      <td>Very Positive</td>\n",
       "      <td>94</td>\n",
       "    </tr>\n",
       "    <tr>\n",
       "      <th>1</th>\n",
       "      <td>GOD EATER 2 Rage Burst</td>\n",
       "      <td>155097</td>\n",
       "      <td>2016-08-29</td>\n",
       "      <td>49.99</td>\n",
       "      <td>73</td>\n",
       "      <td>Very Positive</td>\n",
       "      <td>80</td>\n",
       "    </tr>\n",
       "    <tr>\n",
       "      <th>2</th>\n",
       "      <td>Yooka-Laylee</td>\n",
       "      <td>164041</td>\n",
       "      <td>2017-04-05</td>\n",
       "      <td>49.99</td>\n",
       "      <td>73</td>\n",
       "      <td>Mostly Positive</td>\n",
       "      <td>78</td>\n",
       "    </tr>\n",
       "    <tr>\n",
       "      <th>3</th>\n",
       "      <td>Dragons Dogma: Dark Arisen</td>\n",
       "      <td>146236</td>\n",
       "      <td>2016-01-15</td>\n",
       "      <td>29.99</td>\n",
       "      <td>81</td>\n",
       "      <td>Very Positive</td>\n",
       "      <td>89</td>\n",
       "    </tr>\n",
       "    <tr>\n",
       "      <th>4</th>\n",
       "      <td>The Sinking City</td>\n",
       "      <td>201604</td>\n",
       "      <td>2019-06-27</td>\n",
       "      <td>39.99</td>\n",
       "      <td>71</td>\n",
       "      <td>Mostly Positive</td>\n",
       "      <td>73</td>\n",
       "    </tr>\n",
       "  </tbody>\n",
       "</table>\n",
       "</div>"
      ],
      "text/plain": [
       "                        title  gameID releaseDate  normalPrice  \\\n",
       "0     Rise of the Tomb Raider  145517  2016-01-28        29.99   \n",
       "1      GOD EATER 2 Rage Burst  155097  2016-08-29        49.99   \n",
       "2                Yooka-Laylee  164041  2017-04-05        49.99   \n",
       "3  Dragons Dogma: Dark Arisen  146236  2016-01-15        29.99   \n",
       "4            The Sinking City  201604  2019-06-27        39.99   \n",
       "\n",
       "   metacriticScore  steamRatingText  steamRatingPercent  \n",
       "0               86    Very Positive                  94  \n",
       "1               73    Very Positive                  80  \n",
       "2               73  Mostly Positive                  78  \n",
       "3               81    Very Positive                  89  \n",
       "4               71  Mostly Positive                  73  "
      ]
     },
     "execution_count": 13,
     "metadata": {},
     "output_type": "execute_result"
    }
   ],
   "source": [
    "aaa_set.head()"
   ]
  },
  {
   "cell_type": "code",
   "execution_count": 14,
   "metadata": {},
   "outputs": [
    {
     "data": {
      "text/html": [
       "<div>\n",
       "<style scoped>\n",
       "    .dataframe tbody tr th:only-of-type {\n",
       "        vertical-align: middle;\n",
       "    }\n",
       "\n",
       "    .dataframe tbody tr th {\n",
       "        vertical-align: top;\n",
       "    }\n",
       "\n",
       "    .dataframe thead th {\n",
       "        text-align: right;\n",
       "    }\n",
       "</style>\n",
       "<table border=\"1\" class=\"dataframe\">\n",
       "  <thead>\n",
       "    <tr style=\"text-align: right;\">\n",
       "      <th></th>\n",
       "      <th>title</th>\n",
       "      <th>gameID</th>\n",
       "      <th>releaseDate</th>\n",
       "      <th>normalPrice</th>\n",
       "      <th>metacriticScore</th>\n",
       "      <th>steamRatingText</th>\n",
       "      <th>steamRatingPercent</th>\n",
       "    </tr>\n",
       "  </thead>\n",
       "  <tbody>\n",
       "    <tr>\n",
       "      <th>0</th>\n",
       "      <td>Stealth Bastard Deluxe</td>\n",
       "      <td>93923</td>\n",
       "      <td>2012-11-28</td>\n",
       "      <td>9.99</td>\n",
       "      <td>80</td>\n",
       "      <td>Very Positive</td>\n",
       "      <td>88</td>\n",
       "    </tr>\n",
       "    <tr>\n",
       "      <th>1</th>\n",
       "      <td>Prince of Persia: The Sands of Time</td>\n",
       "      <td>278</td>\n",
       "      <td>2003-12-02</td>\n",
       "      <td>9.99</td>\n",
       "      <td>89</td>\n",
       "      <td>Very Positive</td>\n",
       "      <td>85</td>\n",
       "    </tr>\n",
       "    <tr>\n",
       "      <th>6</th>\n",
       "      <td>Crayon Physics Deluxe</td>\n",
       "      <td>709</td>\n",
       "      <td>2009-01-07</td>\n",
       "      <td>19.99</td>\n",
       "      <td>79</td>\n",
       "      <td>Very Positive</td>\n",
       "      <td>90</td>\n",
       "    </tr>\n",
       "    <tr>\n",
       "      <th>7</th>\n",
       "      <td>Amnesia: The Dark Descent</td>\n",
       "      <td>86</td>\n",
       "      <td>2010-09-08</td>\n",
       "      <td>19.99</td>\n",
       "      <td>85</td>\n",
       "      <td>Overwhelmingly Positive</td>\n",
       "      <td>95</td>\n",
       "    </tr>\n",
       "    <tr>\n",
       "      <th>8</th>\n",
       "      <td>Company of Heroes</td>\n",
       "      <td>117</td>\n",
       "      <td>2006-09-13</td>\n",
       "      <td>19.99</td>\n",
       "      <td>93</td>\n",
       "      <td>Very Positive</td>\n",
       "      <td>94</td>\n",
       "    </tr>\n",
       "  </tbody>\n",
       "</table>\n",
       "</div>"
      ],
      "text/plain": [
       "                                 title gameID releaseDate  normalPrice  \\\n",
       "0               Stealth Bastard Deluxe  93923  2012-11-28         9.99   \n",
       "1  Prince of Persia: The Sands of Time    278  2003-12-02         9.99   \n",
       "6                Crayon Physics Deluxe    709  2009-01-07        19.99   \n",
       "7            Amnesia: The Dark Descent     86  2010-09-08        19.99   \n",
       "8                    Company of Heroes    117  2006-09-13        19.99   \n",
       "\n",
       "   metacriticScore          steamRatingText  steamRatingPercent  \n",
       "0               80            Very Positive                  88  \n",
       "1               89            Very Positive                  85  \n",
       "6               79            Very Positive                  90  \n",
       "7               85  Overwhelmingly Positive                  95  \n",
       "8               93            Very Positive                  94  "
      ]
     },
     "execution_count": 14,
     "metadata": {},
     "output_type": "execute_result"
    }
   ],
   "source": [
    "indie_set.head()"
   ]
  },
  {
   "cell_type": "markdown",
   "metadata": {},
   "source": [
    "#### Plots"
   ]
  },
  {
   "cell_type": "code",
   "execution_count": 37,
   "metadata": {},
   "outputs": [
    {
     "data": {
      "image/png": "[encoded data removed]",
      "text/plain": [
       "<Figure size 640x480 with 1 Axes>"
      ]
     },
     "metadata": {},
     "output_type": "display_data"
    },
    {
     "data": {
      "image/png": "[encoded data removed]",
      "text/plain": [
       "<Figure size 640x480 with 1 Axes>"
      ]
     },
     "metadata": {},
     "output_type": "display_data"
    },
    {
     "data": {
      "image/png": "[encoded data removed]",
      "text/plain": [
       "<Figure size 640x480 with 1 Axes>"
      ]
     },
     "metadata": {},
     "output_type": "display_data"
    },
    {
     "data": {
      "image/png": "[encoded data removed]",
      "text/plain": [
       "<Figure size 640x480 with 1 Axes>"
      ]
     },
     "metadata": {},
     "output_type": "display_data"
    }
   ],
   "source": [
    "#Currently how it goes is :\n",
    "#Check steamRatingText against price\n",
    "\n",
    "#MAKE NOTES ON WHAT EACH PLOT MEANS, maybe make a time series or heatmap for dates etc\n",
    "#ALSO put the plots on the same grid to make them easily comparable. or put them on the same graph with different colors\n",
    "#In this one, it's lowk opposite of Shizhe chen. they're grading based on complexity.\n",
    "#we need more dimensions for complexity\n",
    "\n",
    "#Currently I'm checking\n",
    "# - steamratingpercent/metacriticscore against normal price (via boxplots, histogrmas)\n",
    "# - steamratingpercent/metacriticscore against release data\n",
    "# - normalPrice against release date... inflation?\n",
    "#so we're checking generally what factors affect a game's rating. the issue is this doesn't provide much factors except for the normalprice\n",
    "#Can use youtube to check popularity\n",
    "import matplotlib.pyplot as plt\n",
    "import seaborn as sns\n",
    "\n",
    "#Basic boxplot: Rating texts on normal price, for indie\n",
    "sns.boxplot(x='normalPrice', y='steamRatingText', data=indie_set)\n",
    "plt.show()\n",
    "\n",
    "#Basic boxplot: Rating texts on normal price, for aaa\n",
    "sns.boxplot(x='normalPrice', y='steamRatingText', data=aaa_set)\n",
    "plt.show()\n",
    "#fix idk why  overwhelmingly negative and positive are merged\n",
    "\n",
    "#Find also just overall distribution of prices... then maybe for boxplots do percents? Right because you see the reviews are mainly at \n",
    "#    $15 but maybe that's because you just have a lot of games at $15. In which case, you'd wanna keep that in mind. Idk if you can\n",
    "#    make an edit that'd change things though... mainly for indie\n",
    "\n",
    "#PUT MORE LABELS FOR HISTOGRAMS\n",
    "plt.hist(indie_set['normalPrice'], bins=30)\n",
    "plt.show()\n",
    "\n",
    "plt.hist(aaa_set['normalPrice'], bins=30)\n",
    "plt.show()\n",
    "\n",
    "#SEGMENTED HISTOGRAM for prices and stuff\n",
    "\n",
    "#Try your own natural language processing to check ratings\n",
    "#Check youtube something, maybe it affects something\n",
    "#For complexity, I also want to try web scraping "
   ]
  },
  {
   "cell_type": "markdown",
   "metadata": {},
   "source": [
    "Testing environment"
   ]
  },
  {
   "cell_type": "code",
   "execution_count": 2,
   "metadata": {},
   "outputs": [],
   "source": [
    "#test = result.json()\n",
    "#print(result.headers['X-Total-Page-Count']) # Important if we want to parse through all pages\n",
    "#print(result.url)\n",
    "#\n",
    "#test = pd.DataFrame(test)\n",
    "#\n",
    "#header = result.headers"
   ]
  },
  {
   "cell_type": "markdown",
   "metadata": {},
   "source": [
    "### Zhanyi Section"
   ]
  },
  {
   "cell_type": "code",
   "execution_count": null,
   "metadata": {},
   "outputs": [],
   "source": [
    "def get_game_reviews(game_id):\n",
    "    # Define the URL for the OpenCritic API, using the game_id parameter\n",
    "    url = url = f\"https://opencritic-api.p.rapidapi.com/reviews/game/{game_id}\"\n",
    "    \n",
    "    # Set up the headers for the API request\n",
    "    headers = {\n",
    "        \"X-RapidAPI-Key\": \"61206e4cddmshb83e09e46beb28ep1c0a4cjsn8e27fb46a529\",\n",
    "        \"X-RapidAPI-Host\": \"opencritic-api.p.rapidapi.com\"\n",
    "    }\n",
    "    \n",
    "    # Make a GET request to the OpenCritic API\n",
    "    response = requests.get(url, headers=headers)\n",
    "    \n",
    "    # Check if the response status code is 200 (OK).\n",
    "    if response.status_code != 200:\n",
    "        print(f\"Failed to fetch data for game ID {game_id}\")\n",
    "        return\n",
    "\n",
    "    # Extract data\n",
    "    data = response.json()\n",
    "    df = pd.DataFrame(data)[['game', 'score','Outlet','Platforms'] ]\n",
    "    \n",
    "    df['platform_names'] = df['Platforms'].apply(lambda x: ', '.join([platform['name'] for platform in x if 'name' in platform]))\n",
    "    \n",
    "    df['game_name'] = df['game'].apply(lambda x: x['name'])\n",
    "    \n",
    "    df['outlet_name'] = df['Outlet'].apply(lambda x: x['name'])\n",
    "    \n",
    "    df = df.dropna(subset=['score'])\n",
    "    df = df[df['platform_names'].str.len() > 0]\n",
    "    df = df.drop(columns=['game', 'Outlet','Platforms'])\n",
    "    df = df.drop_duplicates(subset='outlet_name')\n",
    "    \n",
    "    print(df.to_string())"
   ]
  },
  {
   "cell_type": "code",
   "execution_count": null,
   "metadata": {},
   "outputs": [],
   "source": [
    "# Sample test The witcher 3 from different platform \n",
    "# Use for review diference\n",
    "# Maybe hints that not all platform optimize the game\n",
    "# Still need to look for game id\n",
    "# Might be good for later review analysis\n",
    "\n",
    "\n",
    "# Some version of the game that relsease later use different game id\n",
    "\n",
    "get_game_reviews(463)\n",
    "get_game_reviews(8396)"
   ]
  },
  {
   "cell_type": "markdown",
   "metadata": {},
   "source": [
    "## Results"
   ]
  },
  {
   "cell_type": "markdown",
   "metadata": {},
   "source": [
    "## Discussion"
   ]
  },
  {
   "cell_type": "markdown",
   "metadata": {},
   "source": [
    "## Acknowledgements"
   ]
  },
  {
   "cell_type": "markdown",
   "metadata": {},
   "source": []
  }
 ],
 "metadata": {
  "kernelspec": {
   "display_name": "Python 3 (ipykernel)",
   "language": "python",
   "name": "python3"
  },
  "language_info": {
   "codemirror_mode": {
    "name": "ipython",
    "version": 3
   },
   "file_extension": ".py",
   "mimetype": "text/x-python",
   "name": "python",
   "nbconvert_exporter": "python",
   "pygments_lexer": "ipython3",
   "version": "3.11.1"
  }
 },
 "nbformat": 4,
 "nbformat_minor": 4
}
